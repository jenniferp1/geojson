{
 "cells": [
  {
   "cell_type": "markdown",
   "metadata": {},
   "source": [
    "# Converting DataFrames to GeoJSON\n",
    "\n",
    "Data from [City of Berkeley](https://data.cityofberkeley.info/).\n",
    "\n",
    "The [311 Cases dataset](https://data.cityofberkeley.info/311/311-Cases-COB/bscu-qpbu) represents service request or inquiry calls, emails and online requests submitted to the City of Berkeley.\n",
    "\n"
   ]
  },
  {
   "cell_type": "code",
   "execution_count": 1,
   "metadata": {},
   "outputs": [],
   "source": [
    "import pandas as pd, requests, json"
   ]
  },
  {
   "cell_type": "code",
   "execution_count": 2,
   "metadata": {},
   "outputs": [],
   "source": [
    "# API endpoint for city of Berkeley's 311 calls\n",
    "# Note endpoint may need updating if it breaks.  See links above to get new endpoint\n",
    "\n",
    "endpoint_url = 'https://data.cityofberkeley.info/resource/bscu-qpbu.json?$where=within_circle(location, 37.84, -122.27, 1000)'"
   ]
  },
  {
   "cell_type": "code",
   "execution_count": 3,
   "metadata": {},
   "outputs": [],
   "source": [
    "# fetch the URL and load the data\n",
    "response = requests.get(endpoint_url)\n",
    "data = response.json()"
   ]
  },
  {
   "cell_type": "code",
   "execution_count": 4,
   "metadata": {},
   "outputs": [
    {
     "data": {
      "text/html": [
       "<div>\n",
       "<style scoped>\n",
       "    .dataframe tbody tr th:only-of-type {\n",
       "        vertical-align: middle;\n",
       "    }\n",
       "\n",
       "    .dataframe tbody tr th {\n",
       "        vertical-align: top;\n",
       "    }\n",
       "\n",
       "    .dataframe thead th {\n",
       "        text-align: right;\n",
       "    }\n",
       "</style>\n",
       "<table border=\"1\" class=\"dataframe\">\n",
       "  <thead>\n",
       "    <tr style=\"text-align: right;\">\n",
       "      <th></th>\n",
       "      <th>case_id</th>\n",
       "      <th>date_opened</th>\n",
       "      <th>case_status</th>\n",
       "      <th>date_closed</th>\n",
       "      <th>request_category</th>\n",
       "      <th>request_subcategory</th>\n",
       "      <th>request_detail</th>\n",
       "      <th>object_type</th>\n",
       "      <th>apn</th>\n",
       "      <th>street_address</th>\n",
       "      <th>city</th>\n",
       "      <th>state</th>\n",
       "      <th>neighborhood</th>\n",
       "      <th>latitude</th>\n",
       "      <th>longitude</th>\n",
       "      <th>location</th>\n",
       "    </tr>\n",
       "  </thead>\n",
       "  <tbody>\n",
       "    <tr>\n",
       "      <th>0</th>\n",
       "      <td>121000169072</td>\n",
       "      <td>2013-11-19T12:03:49.000</td>\n",
       "      <td>Closed</td>\n",
       "      <td>2013-12-19T23:01:03.000</td>\n",
       "      <td>Business License</td>\n",
       "      <td>Rental of Real Property</td>\n",
       "      <td>Application</td>\n",
       "      <td>Property</td>\n",
       "      <td>052 152700300</td>\n",
       "      <td>1835 SIXTY-THIRD ST</td>\n",
       "      <td>Berkeley</td>\n",
       "      <td>CA</td>\n",
       "      <td>Berkeley</td>\n",
       "      <td>37.84832459</td>\n",
       "      <td>-122.26964667</td>\n",
       "      <td>{'latitude': '37.84832459', 'longitude': '-122...</td>\n",
       "    </tr>\n",
       "    <tr>\n",
       "      <th>1</th>\n",
       "      <td>121000315937</td>\n",
       "      <td>2016-09-26T10:44:25.000</td>\n",
       "      <td>Closed</td>\n",
       "      <td>2016-12-05T07:58:40.000</td>\n",
       "      <td>Facilities, Electrical &amp; Property Management</td>\n",
       "      <td>Electrical Services</td>\n",
       "      <td>Street Lights - Repair</td>\n",
       "      <td>Property</td>\n",
       "      <td>052 152700700</td>\n",
       "      <td>1819 SIXTY-THIRD ST</td>\n",
       "      <td>Berkeley</td>\n",
       "      <td>CA</td>\n",
       "      <td>Berkeley</td>\n",
       "      <td>37.84825671</td>\n",
       "      <td>-122.27015104</td>\n",
       "      <td>{'latitude': '37.84825671', 'longitude': '-122...</td>\n",
       "    </tr>\n",
       "    <tr>\n",
       "      <th>2</th>\n",
       "      <td>121000432122</td>\n",
       "      <td>2018-11-20T10:26:45.000</td>\n",
       "      <td>Closed</td>\n",
       "      <td>2018-12-20T13:09:36.000</td>\n",
       "      <td>Refuse and Recycling</td>\n",
       "      <td>Residential</td>\n",
       "      <td>Residential Reminder</td>\n",
       "      <td>Property</td>\n",
       "      <td>052 152700300</td>\n",
       "      <td>1835 SIXTY-THIRD ST</td>\n",
       "      <td>Berkeley</td>\n",
       "      <td>CA</td>\n",
       "      <td>Berkeley</td>\n",
       "      <td>37.84832459</td>\n",
       "      <td>-122.26964667</td>\n",
       "      <td>{'latitude': '37.84832459', 'longitude': '-122...</td>\n",
       "    </tr>\n",
       "    <tr>\n",
       "      <th>3</th>\n",
       "      <td>121000100320</td>\n",
       "      <td>2012-07-03T11:21:36.000</td>\n",
       "      <td>Closed</td>\n",
       "      <td>2012-07-26T13:12:43.000</td>\n",
       "      <td>Refuse and Recycling</td>\n",
       "      <td>Commercial</td>\n",
       "      <td>Commercial Service Stop</td>\n",
       "      <td>Property</td>\n",
       "      <td>052 152701002</td>\n",
       "      <td>1813 SIXTY-THIRD ST</td>\n",
       "      <td>Berkeley</td>\n",
       "      <td>CA</td>\n",
       "      <td>Berkeley</td>\n",
       "      <td>37.84820439</td>\n",
       "      <td>-122.27055940</td>\n",
       "      <td>{'latitude': '37.84820439', 'longitude': '-122...</td>\n",
       "    </tr>\n",
       "    <tr>\n",
       "      <th>4</th>\n",
       "      <td>121000207888</td>\n",
       "      <td>2014-08-12T16:58:15.000</td>\n",
       "      <td>Closed</td>\n",
       "      <td>2014-08-14T07:56:02.000</td>\n",
       "      <td>Streets, Utilities, and Transportation</td>\n",
       "      <td>Clean City Program</td>\n",
       "      <td>Illegal Dumping - City Property</td>\n",
       "      <td>Property</td>\n",
       "      <td>052 152701002</td>\n",
       "      <td>1813 SIXTY-THIRD ST</td>\n",
       "      <td>Berkeley</td>\n",
       "      <td>CA</td>\n",
       "      <td>Berkeley</td>\n",
       "      <td>37.84820439</td>\n",
       "      <td>-122.27055940</td>\n",
       "      <td>{'latitude': '37.84820439', 'longitude': '-122...</td>\n",
       "    </tr>\n",
       "  </tbody>\n",
       "</table>\n",
       "</div>"
      ],
      "text/plain": [
       "        case_id              date_opened case_status              date_closed  \\\n",
       "0  121000169072  2013-11-19T12:03:49.000      Closed  2013-12-19T23:01:03.000   \n",
       "1  121000315937  2016-09-26T10:44:25.000      Closed  2016-12-05T07:58:40.000   \n",
       "2  121000432122  2018-11-20T10:26:45.000      Closed  2018-12-20T13:09:36.000   \n",
       "3  121000100320  2012-07-03T11:21:36.000      Closed  2012-07-26T13:12:43.000   \n",
       "4  121000207888  2014-08-12T16:58:15.000      Closed  2014-08-14T07:56:02.000   \n",
       "\n",
       "                               request_category      request_subcategory  \\\n",
       "0                              Business License  Rental of Real Property   \n",
       "1  Facilities, Electrical & Property Management      Electrical Services   \n",
       "2                          Refuse and Recycling              Residential   \n",
       "3                          Refuse and Recycling               Commercial   \n",
       "4        Streets, Utilities, and Transportation       Clean City Program   \n",
       "\n",
       "                    request_detail object_type            apn  \\\n",
       "0                      Application    Property  052 152700300   \n",
       "1           Street Lights - Repair    Property  052 152700700   \n",
       "2             Residential Reminder    Property  052 152700300   \n",
       "3          Commercial Service Stop    Property  052 152701002   \n",
       "4  Illegal Dumping - City Property    Property  052 152701002   \n",
       "\n",
       "        street_address      city state neighborhood     latitude  \\\n",
       "0  1835 SIXTY-THIRD ST  Berkeley    CA     Berkeley  37.84832459   \n",
       "1  1819 SIXTY-THIRD ST  Berkeley    CA     Berkeley  37.84825671   \n",
       "2  1835 SIXTY-THIRD ST  Berkeley    CA     Berkeley  37.84832459   \n",
       "3  1813 SIXTY-THIRD ST  Berkeley    CA     Berkeley  37.84820439   \n",
       "4  1813 SIXTY-THIRD ST  Berkeley    CA     Berkeley  37.84820439   \n",
       "\n",
       "       longitude                                           location  \n",
       "0  -122.26964667  {'latitude': '37.84832459', 'longitude': '-122...  \n",
       "1  -122.27015104  {'latitude': '37.84825671', 'longitude': '-122...  \n",
       "2  -122.26964667  {'latitude': '37.84832459', 'longitude': '-122...  \n",
       "3  -122.27055940  {'latitude': '37.84820439', 'longitude': '-122...  \n",
       "4  -122.27055940  {'latitude': '37.84820439', 'longitude': '-122...  "
      ]
     },
     "execution_count": 4,
     "metadata": {},
     "output_type": "execute_result"
    }
   ],
   "source": [
    "# turn the json data into a dataframe and see how many rows and what columns we have\n",
    "df = pd.DataFrame(data)\n",
    "\n",
    "df.head()"
   ]
  },
  {
   "cell_type": "code",
   "execution_count": 5,
   "metadata": {},
   "outputs": [
    {
     "data": {
      "text/plain": [
       "(1000, 16)"
      ]
     },
     "execution_count": 5,
     "metadata": {},
     "output_type": "execute_result"
    }
   ],
   "source": [
    "df.shape"
   ]
  },
  {
   "cell_type": "code",
   "execution_count": 6,
   "metadata": {},
   "outputs": [],
   "source": [
    "# convert lat-long to floats and change address from ALL CAPS to Regular Capitalization\n",
    "df['latitude'] = df['latitude'].astype(float)\n",
    "df['longitude'] = df['longitude'].astype(float)\n",
    "df['street_address'] = df['street_address'].str.title()"
   ]
  },
  {
   "cell_type": "code",
   "execution_count": 7,
   "metadata": {},
   "outputs": [],
   "source": [
    "# we don't need all those columns - only keep useful ones\n",
    "useful_cols = ['request_detail', 'request_category', 'latitude', 'longitude', 'street_address', 'case_status']\n",
    "df_subset = df[useful_cols]"
   ]
  },
  {
   "cell_type": "code",
   "execution_count": 8,
   "metadata": {},
   "outputs": [
    {
     "name": "stdout",
     "output_type": "stream",
     "text": [
      "We have 1000 geotagged rows\n"
     ]
    },
    {
     "data": {
      "text/html": [
       "<div>\n",
       "<style scoped>\n",
       "    .dataframe tbody tr th:only-of-type {\n",
       "        vertical-align: middle;\n",
       "    }\n",
       "\n",
       "    .dataframe tbody tr th {\n",
       "        vertical-align: top;\n",
       "    }\n",
       "\n",
       "    .dataframe thead th {\n",
       "        text-align: right;\n",
       "    }\n",
       "</style>\n",
       "<table border=\"1\" class=\"dataframe\">\n",
       "  <thead>\n",
       "    <tr style=\"text-align: right;\">\n",
       "      <th></th>\n",
       "      <th>request_detail</th>\n",
       "      <th>request_category</th>\n",
       "      <th>latitude</th>\n",
       "      <th>longitude</th>\n",
       "      <th>street_address</th>\n",
       "      <th>case_status</th>\n",
       "    </tr>\n",
       "  </thead>\n",
       "  <tbody>\n",
       "    <tr>\n",
       "      <th>995</th>\n",
       "      <td>Residential Customer Complaint</td>\n",
       "      <td>Refuse and Recycling</td>\n",
       "      <td>37.847933</td>\n",
       "      <td>-122.272577</td>\n",
       "      <td>1719 Sixty-Third St</td>\n",
       "      <td>Closed</td>\n",
       "    </tr>\n",
       "    <tr>\n",
       "      <th>996</th>\n",
       "      <td>Illegal Dumping - City Property</td>\n",
       "      <td>Streets, Utilities, and Transportation</td>\n",
       "      <td>37.848108</td>\n",
       "      <td>-122.274055</td>\n",
       "      <td>1634 Alcatraz Ave</td>\n",
       "      <td>Closed</td>\n",
       "    </tr>\n",
       "    <tr>\n",
       "      <th>997</th>\n",
       "      <td>Residential Bulky Pickup</td>\n",
       "      <td>Refuse and Recycling</td>\n",
       "      <td>37.848131</td>\n",
       "      <td>-122.273904</td>\n",
       "      <td>1638 Alcatraz Ave</td>\n",
       "      <td>Open</td>\n",
       "    </tr>\n",
       "    <tr>\n",
       "      <th>998</th>\n",
       "      <td>Miscellaneous Internet Request</td>\n",
       "      <td>General Questions/information</td>\n",
       "      <td>37.848131</td>\n",
       "      <td>-122.273904</td>\n",
       "      <td>1638 Alcatraz Ave</td>\n",
       "      <td>Closed</td>\n",
       "    </tr>\n",
       "    <tr>\n",
       "      <th>999</th>\n",
       "      <td>Illegal Dumping - City Property</td>\n",
       "      <td>Streets, Utilities, and Transportation</td>\n",
       "      <td>37.848204</td>\n",
       "      <td>-122.270559</td>\n",
       "      <td>1813 Sixty-Third St</td>\n",
       "      <td>Closed</td>\n",
       "    </tr>\n",
       "  </tbody>\n",
       "</table>\n",
       "</div>"
      ],
      "text/plain": [
       "                      request_detail                        request_category  \\\n",
       "995   Residential Customer Complaint                    Refuse and Recycling   \n",
       "996  Illegal Dumping - City Property  Streets, Utilities, and Transportation   \n",
       "997         Residential Bulky Pickup                    Refuse and Recycling   \n",
       "998   Miscellaneous Internet Request           General Questions/information   \n",
       "999  Illegal Dumping - City Property  Streets, Utilities, and Transportation   \n",
       "\n",
       "      latitude   longitude       street_address case_status  \n",
       "995  37.847933 -122.272577  1719 Sixty-Third St      Closed  \n",
       "996  37.848108 -122.274055    1634 Alcatraz Ave      Closed  \n",
       "997  37.848131 -122.273904    1638 Alcatraz Ave        Open  \n",
       "998  37.848131 -122.273904    1638 Alcatraz Ave      Closed  \n",
       "999  37.848204 -122.270559  1813 Sixty-Third St      Closed  "
      ]
     },
     "execution_count": 8,
     "metadata": {},
     "output_type": "execute_result"
    }
   ],
   "source": [
    "# drop any rows that lack lat/long data\n",
    "df_geo = df_subset.dropna(subset=['latitude', 'longitude'], axis=0, inplace=False)\n",
    "\n",
    "print('We have {} geotagged rows'.format(len(df_geo)))\n",
    "df_geo.tail()"
   ]
  },
  {
   "cell_type": "code",
   "execution_count": 9,
   "metadata": {},
   "outputs": [
    {
     "data": {
      "text/plain": [
       "Refuse and Recycling                            557\n",
       "Streets, Utilities, and Transportation          215\n",
       "General Questions/information                   163\n",
       "Parks, Trees and Vegetation                      24\n",
       "Business License                                  9\n",
       "Environmental Services and Programs               9\n",
       "Facilities, Electrical & Property Management      8\n",
       "Graffiti and Vandalism                            7\n",
       "Government Activity                               6\n",
       "Other Account Services and Billing                2\n",
       "Name: request_category, dtype: int64"
      ]
     },
     "execution_count": 9,
     "metadata": {},
     "output_type": "execute_result"
    }
   ],
   "source": [
    "# what is the distribution of issue types?\n",
    "df_geo['request_category'].value_counts()"
   ]
  },
  {
   "cell_type": "markdown",
   "metadata": {},
   "source": [
    "Finally, convert each row in the dataframe to a geojson-formatted feature and save the result as a file. The format is pretty simple and you can see it here: http://geojson.org/"
   ]
  },
  {
   "cell_type": "code",
   "execution_count": 10,
   "metadata": {},
   "outputs": [],
   "source": [
    "def df_to_geojson(df, properties, lat='latitude', lon='longitude'):\n",
    "    \"\"\"\n",
    "    Turn a dataframe containing point data into a geojson formatted python dictionary\n",
    "    \n",
    "    df : the dataframe to convert to geojson\n",
    "    properties : a list of columns in the dataframe to turn into geojson feature properties\n",
    "    lat : the name of the column in the dataframe that contains latitude data\n",
    "    lon : the name of the column in the dataframe that contains longitude data\n",
    "    \"\"\"\n",
    "    \n",
    "    # create a new python dict to contain our geojson data, using geojson format\n",
    "    geojson = {'type':'FeatureCollection', 'features':[]}\n",
    "\n",
    "    # loop through each row in the dataframe and convert each row to geojson format\n",
    "    for _, row in df.iterrows():\n",
    "        # create a feature template to fill in\n",
    "        feature = {'type':'Feature',\n",
    "                   'properties':{},\n",
    "                   'geometry':{'type':'Point',\n",
    "                               'coordinates':[]}}\n",
    "\n",
    "        # fill in the coordinates\n",
    "        feature['geometry']['coordinates'] = [row[lon],row[lat]]\n",
    "\n",
    "        # for each column, get the value and add it as a new feature property\n",
    "        for prop in properties:\n",
    "            feature['properties'][prop] = row[prop]\n",
    "        \n",
    "        # add this feature (aka, converted dataframe row) to the list of features inside our dict\n",
    "        geojson['features'].append(feature)\n",
    "    \n",
    "    return geojson"
   ]
  },
  {
   "cell_type": "code",
   "execution_count": 11,
   "metadata": {},
   "outputs": [],
   "source": [
    "useful_columns = ['street_address', 'request_detail', 'request_category', 'case_status']\n",
    "geojson_dict = df_to_geojson(df_geo, properties=useful_columns)\n",
    "geojson_str = json.dumps(geojson_dict, indent=2)"
   ]
  },
  {
   "cell_type": "code",
   "execution_count": 12,
   "metadata": {},
   "outputs": [
    {
     "name": "stdout",
     "output_type": "stream",
     "text": [
      "1000 geotagged features saved to file\n"
     ]
    }
   ],
   "source": [
    "# save the geojson result to a file\n",
    "output_filename = 'markerpoints.js'\n",
    "with open(output_filename, 'w') as output_file:\n",
    "    output_file.write('var dataset = {};'.format(geojson_str))\n",
    "    \n",
    "# how many features did we save to the geojson file?\n",
    "print('{} geotagged features saved to file'.format(len(geojson_dict['features'])))"
   ]
  }
 ],
 "metadata": {
  "kernelspec": {
   "display_name": "Python 3",
   "language": "python",
   "name": "python3"
  },
  "language_info": {
   "codemirror_mode": {
    "name": "ipython",
    "version": 3
   },
   "file_extension": ".py",
   "mimetype": "text/x-python",
   "name": "python",
   "nbconvert_exporter": "python",
   "pygments_lexer": "ipython3",
   "version": "3.7.3"
  }
 },
 "nbformat": 4,
 "nbformat_minor": 2
}
